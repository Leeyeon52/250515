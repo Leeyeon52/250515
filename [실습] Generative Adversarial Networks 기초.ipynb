{
 "cells": [
  {
   "cell_type": "markdown",
   "metadata": {},
   "source": [
    "# [실습] Generative Adversarial Networks 기초"
   ]
  },
  {
   "cell_type": "markdown",
   "metadata": {},
   "source": [
    "### 학습목표\n",
    "1. Generative Adversarial Networks(GAN)의 개념에 대해 알아봅니다.\n",
    "\n",
    "2. GAN의 구조 및 학습 과정을 이해합니다."
   ]
  },
  {
   "cell_type": "markdown",
   "metadata": {},
   "source": [
    "## 목차\n",
    "1. GAN의 개념\n",
    "2. GAN의 구조 및 학습 과정"
   ]
  },
  {
   "cell_type": "markdown",
   "metadata": {},
   "source": [
    "## 1. GAN의 개념\n",
    "\n",
    "GAN은 'Generative Adversarial Network'의 약자로 데이터를 생성하는 생성자(Generator)와 데이터의 진짜, 가짜 여부를 판별하는 판별자(Discriminator)의 두 가지 요소로 구성된 인공지능 모델입니다.\n",
    "\n",
    "GAN은 2014년 Ian Goodfellow가 NIPS에서 발표했습니다. ([Generative Adversarial Networks (NIPS 2014)](https://arxiv.org/abs/1406.2661)) 이 모델은 두 개의 딥 러닝 네트워크, 생성자(Generator)와 판별자(Discriminator)로 구성되어 있습니다. 생성자는 노이즈를 통해 새로운 데이터를 생성하고, 판별자는 생성된 데이터가 실제 데이터인지 가짜 데이터인지 판별하는 역할을 합니다. 두 네트워크는 함께 학습하며, 생성자는 판별자가 진짜라고 판별할 만큼 **정교한 데이터를 생성**하는 것을 목표로 하고, 판별자는 생성자가 아무리 진짜 같은 데이터를 생성하더라도 **생성된 데이터를 정확하게 가짜로 판별**하는 것을 목표로 합니다.\n",
    "\n",
    "두 네트워크가 경쟁하면서 학습을 진행하기 때문에 **Adversarial**(적대적)이라는 단어가 붙었습니다."
   ]
  },
  {
   "cell_type": "markdown",
   "metadata": {},
   "source": [
    "<center><img src=\"img/GAN.png\" style=\"width: 1000px\"></center>"
   ]
  },
  {
   "cell_type": "markdown",
   "metadata": {},
   "source": [
    "## 2. GAN의 구조 및 학습\n",
    "\n",
    "GAN은 위에서 설명했듯이 기본적으로 생성자와 판별자, 두 개의 네트워크로 구성되어 있습니다. 생성자와 판별자의 코드를 직접 작성해 보며 구조를 알아보고 학습과정을 거쳐 이미지를 간단하게 생성해 봅시다."
   ]
  },
  {
   "cell_type": "code",
   "execution_count": 1,
   "metadata": {},
   "outputs": [],
   "source": [
    "# 사용할 라이브러리를 import합니다.\n",
    "import tensorflow as tf\n",
    "import matplotlib.pyplot as plt\n",
    "import numpy as np\n",
    "import os\n",
    "import PIL\n",
    "from keras import layers\n",
    "\n",
    "from IPython import display"
   ]
  },
  {
   "cell_type": "markdown",
   "metadata": {},
   "source": [
    "### 2.1 데이터 세트\n",
    "사용하는 데이터 세트는 숫자 손 글씨 데이터 세트인 [MNIST](https://www.tensorflow.org/datasets/catalog/mnist?hl=ko)입니다.\n",
    "\n",
    "<center><img src=\"img/mnist-3.0.1.png\" style=\"width: 400px\"></center>"
   ]
  },
  {
   "cell_type": "code",
   "execution_count": 2,
   "metadata": {},
   "outputs": [
    {
     "name": "stdout",
     "output_type": "stream",
     "text": [
      "Downloading data from https://storage.googleapis.com/tensorflow/tf-keras-datasets/mnist.npz\n",
      "\u001b[1m11490434/11490434\u001b[0m \u001b[32m━━━━━━━━━━━━━━━━━━━━\u001b[0m\u001b[37m\u001b[0m \u001b[1m1s\u001b[0m 0us/step\n",
      "(60000, 28, 28, 1)\n"
     ]
    }
   ],
   "source": [
    "# MNIST 데이터 세트를 불러옵니다. 이번 실습에서는 학습 데이터만 사용합니다.\n",
    "(train_images, train_labels), (_, _) = tf.keras.datasets.mnist.load_data()\n",
    "\n",
    "# 28x28 흑백 이미지 형태로 reshape를 해주고 실수형태로 type을 변경해줍니다.\n",
    "# 이 과정은 모델 학습에 적합한 형태를 위해 필요합니다.\n",
    "train_images = train_images.reshape(train_images.shape[0], 28, 28, 1).astype(\"float32\")\n",
    "print(train_images.shape)\n",
    "\n",
    "# 이미지를 [-1, 1]로 정규화합니다.\n",
    "train_images = (train_images - 127.5) / 127.5"
   ]
  },
  {
   "cell_type": "code",
   "execution_count": 3,
   "metadata": {},
   "outputs": [],
   "source": [
    "BUFFER_SIZE = 60000\n",
    "BATCH_SIZE = 256\n",
    "\n",
    "# 데이터 배치를 만들고 섞습니다.\n",
    "train_dataset = (\n",
    "    tf.data.Dataset.from_tensor_slices(train_images)\n",
    "    .shuffle(BUFFER_SIZE)\n",
    "    .batch(BATCH_SIZE)\n",
    ")"
   ]
  },
  {
   "cell_type": "markdown",
   "metadata": {},
   "source": [
    "### 2.1 생성자\n",
    "\n",
    "- `입력` : 생성자는 랜덤한 노이즈를 입력받습니다. 이번 실습에서는 크기가 100인 노이즈를 입력으로 지정해 주겠습니다.\n",
    "- `출력` : MNIST 데이터는 크기가 28X28이기 때문에 이에 맞춰 생성자의 결과물도 28X28이 되도록 네트워크 구조를 작성해 보겠습니다."
   ]
  },
  {
   "cell_type": "code",
   "execution_count": 4,
   "metadata": {},
   "outputs": [],
   "source": [
    "def build_generator():\n",
    "    model = tf.keras.Sequential()\n",
    "    model.add(layers.Dense(7 * 7 * 256, use_bias=False, input_shape=(100,))) # z\n",
    "    model.add(layers.BatchNormalization())\n",
    "    model.add(layers.LeakyReLU())\n",
    "\n",
    "    model.add(layers.Reshape((7, 7, 256)))\n",
    "    assert model.output_shape == (None, 7, 7,256)\n",
    "\n",
    "    model.add(layers.Conv2DTranspose(128, (5, 5), strides=(1, 1),\n",
    "                                    padding=\"same\", use_bias=False))\n",
    "    assert model.output_shape == (None, 7, 7, 128)\n",
    "    model.add(layers.BatchNormalization())\n",
    "    model.add(layers.LeakyReLU())\n",
    "\n",
    "    model.add(layers.Conv2DTranspose(64, (5, 5), strides=(2, 2),\n",
    "                                     padding=\"same\", use_bias=False))\n",
    "    assert model.output_shape == (None, 14, 14, 64)\n",
    "    model.add(layers.BatchNormalization())\n",
    "    model.add(layers.LeakyReLU())\n",
    "\n",
    "    model.add(layers.Conv2DTranspose(1, (5, 5), strides=(2, 2),\n",
    "                                     padding=\"same\", use_bias=False, activation=\"tanh\"))\n",
    "    assert model.output_shape == (None, 28, 28, 1)\n",
    "\n",
    "    return model"
   ]
  },
  {
   "cell_type": "markdown",
   "metadata": {},
   "source": [
    "위에서 작성한 `build_generator()`함수를 사용하여 생성자를 만들고 크기가 100인 무작위 노이즈를 입력값으로 넣어 보도록 하겠습니다. 이 때 생성된 이미지는 학습이 진행되지 않은 초기 생성자의 결과물이기 때문에 숫자 손 글씨 이미지로는 보이지 않을 것입니다."
   ]
  },
  {
   "cell_type": "code",
   "execution_count": 5,
   "metadata": {},
   "outputs": [
    {
     "name": "stderr",
     "output_type": "stream",
     "text": [
      "c:\\Users\\user\\anaconda3\\envs\\tf_env\\lib\\site-packages\\keras\\src\\layers\\core\\dense.py:87: UserWarning: Do not pass an `input_shape`/`input_dim` argument to a layer. When using Sequential models, prefer using an `Input(shape)` object as the first layer in the model instead.\n",
      "  super().__init__(activity_regularizer=activity_regularizer, **kwargs)\n"
     ]
    },
    {
     "data": {
      "text/plain": [
       "<matplotlib.image.AxesImage at 0x233166e5690>"
      ]
     },
     "execution_count": 5,
     "metadata": {},
     "output_type": "execute_result"
    },
    {
     "data": {
      "image/png": "[encoded data removed]",
      "text/plain": [
       "<Figure size 640x480 with 1 Axes>"
      ]
     },
     "metadata": {},
     "output_type": "display_data"
    }
   ],
   "source": [
    "# 생성자를 만듭니다.\n",
    "generator = build_generator()\n",
    "\n",
    "# 크기가 100인 무작위 노이즈를 생성하고 생성자에 입력합니다.\n",
    "noise = tf.random.normal([1, 100])\n",
    "generated_image = generator(noise, training=False)\n",
    "\n",
    "# 생성된 이미지를 확인합니다.\n",
    "plt.imshow(generated_image[0, :, :, 0], cmap='gray')"
   ]
  },
  {
   "cell_type": "markdown",
   "metadata": {},
   "source": [
    "### 2.2 판별자\n",
    "\n",
    "- `입력` : 생성된 이미지 또는 실제 이미지를 입력받습니다.\n",
    "- `출력` : 생성된 이미지일 경우 음수값을, 실제 이미지일 경우 양수값을 출력합니다."
   ]
  },
  {
   "cell_type": "code",
   "execution_count": 6,
   "metadata": {},
   "outputs": [],
   "source": [
    "def build_discriminator():\n",
    "    model = tf.keras.Sequential()\n",
    "    model.add(layers.Conv2D(64, (5, 5), strides=(2, 2), padding='same',\n",
    "                                     input_shape=[28, 28, 1]))\n",
    "    model.add(layers.LeakyReLU())\n",
    "    model.add(layers.Dropout(0.3))\n",
    "\n",
    "    model.add(layers.Conv2D(128, (5, 5), strides=(2, 2), padding='same'))\n",
    "    model.add(layers.LeakyReLU())\n",
    "    model.add(layers.Dropout(0.3))\n",
    "\n",
    "    model.add(layers.Flatten())\n",
    "    model.add(layers.Dense(1))\n",
    "\n",
    "    return model"
   ]
  },
  {
   "cell_type": "markdown",
   "metadata": {},
   "source": [
    "위에서 작성한 `build_discriminator()` 함수에 생성한 이미지(`generage_image`)를 입력하여 결과를 출력합니다. 생성자와 마찬가지로 현재 판별자는 학습되지 않은 상태입니다."
   ]
  },
  {
   "cell_type": "code",
   "execution_count": 7,
   "metadata": {},
   "outputs": [
    {
     "name": "stdout",
     "output_type": "stream",
     "text": [
      "[[-0.00048206]]\n"
     ]
    },
    {
     "name": "stderr",
     "output_type": "stream",
     "text": [
      "c:\\Users\\user\\anaconda3\\envs\\tf_env\\lib\\site-packages\\keras\\src\\layers\\convolutional\\base_conv.py:107: UserWarning: Do not pass an `input_shape`/`input_dim` argument to a layer. When using Sequential models, prefer using an `Input(shape)` object as the first layer in the model instead.\n",
      "  super().__init__(activity_regularizer=activity_regularizer, **kwargs)\n"
     ]
    }
   ],
   "source": [
    "# 판별자를 만듭니다.\n",
    "discriminator = build_discriminator()\n",
    "\n",
    "# 생성된 이미지를 판별자에 입력했을 때 결과를 출력합니다.\n",
    "decision = discriminator(generated_image)\n",
    "print(decision.numpy())"
   ]
  },
  {
   "cell_type": "markdown",
   "metadata": {},
   "source": [
    "판별자에서 반환한 값을 바탕으로 오차역전파를 통해 모델을 학습시키면 어떤 특징에 대해 거짓으로 판별했는지에 대한 정보가 생성자에게 전달되고 이를 토대로 파라미터를 업데이트하며 학습합니다.\n",
    "\n",
    "아래는 생성자와 판별자에 대한 손실함수입니다.\n",
    "\n",
    "- **생성자의 손실함수** : 판별자를 얼마나 잘 속였는지를 수치화하여 이를 바탕으로 학습이 이루어지게 됩니다. 생성자는 생성한 이미지를 판별자가 실제 이미지로 판별하는 것을 목표로 합니다.\n",
    "- **판별자의 손실함수** : 얼마나 정확하게 실제 이미지와 생성된 이미지를 구분하는지를 측정합니다. 판별자는 정확하게 실제 이미지를 '진짜'로 판별하고, 생성된 이미지를 '가짜'로 판별하는 것을 목표로 합니다."
   ]
  },
  {
   "cell_type": "code",
   "execution_count": 8,
   "metadata": {},
   "outputs": [],
   "source": [
    "cross_entropy = tf.keras.losses.BinaryCrossentropy(from_logits=True)"
   ]
  },
  {
   "cell_type": "code",
   "execution_count": 9,
   "metadata": {},
   "outputs": [],
   "source": [
    "def generator_loss(fake_output):\n",
    "    return cross_entropy(tf.ones_like(fake_output), fake_output)"
   ]
  },
  {
   "cell_type": "code",
   "execution_count": 10,
   "metadata": {},
   "outputs": [],
   "source": [
    "def discriminator_loss(real_output, fake_output):\n",
    "    real_loss = cross_entropy(tf.ones_like(real_output), real_output)\n",
    "    fake_loss = cross_entropy(tf.zeros_like(fake_output), fake_output)\n",
    "    total_loss = real_loss + fake_loss\n",
    "    return total_loss"
   ]
  },
  {
   "cell_type": "code",
   "execution_count": 11,
   "metadata": {},
   "outputs": [],
   "source": [
    "# 두 개의 모델이 독립적으로 학습하는 것이기 때문에 옵티마이저도 구분하여 사용합니다.\n",
    "generator_optimizer = tf.keras.optimizers.Adam(1e-4)\n",
    "discriminator_optimizer = tf.keras.optimizers.Adam(1e-4)"
   ]
  },
  {
   "cell_type": "markdown",
   "metadata": {},
   "source": [
    "이제 학습을 진행해 봅시다. 학습이 진행되는 과정을 확인하기 위해 고정된 노이즈(`z`)를 설정합니다."
   ]
  },
  {
   "cell_type": "code",
   "execution_count": 12,
   "metadata": {},
   "outputs": [],
   "source": [
    "EPOCHS = 20\n",
    "noise_dim = 100\n",
    "num_examples_to_generate = 16\n",
    "\n",
    "z = tf.random.normal([num_examples_to_generate, noise_dim])"
   ]
  },
  {
   "cell_type": "code",
   "execution_count": 13,
   "metadata": {},
   "outputs": [],
   "source": [
    "# 학습된 모델을 사용해 이미지를 생성하고 저장합니다.\n",
    "def generate_and_save_images(model, epoch, test_input):\n",
    "    # `training`을 False로 설정해 이미지를 생성하는 동안 모델이 학습하지 않도록 합니다.\n",
    "    predictions = model(test_input, training=False)\n",
    "\n",
    "    fig = plt.figure(figsize=(4, 4))\n",
    "\n",
    "    for i in range(predictions.shape[0]):\n",
    "        plt.subplot(4, 4, i + 1)\n",
    "        plt.imshow(predictions[i, :, :, 0] * 127.5 + 127.5, cmap=\"gray\")\n",
    "        plt.axis(\"off\")\n",
    "\n",
    "    plt.savefig(\"image_at_epoch_{:04d}.png\".format(epoch))\n",
    "    plt.show()"
   ]
  },
  {
   "cell_type": "code",
   "execution_count": 14,
   "metadata": {},
   "outputs": [],
   "source": [
    "def train_step(images):\n",
    "    # 랜덤 노이즈를 생성합니다.\n",
    "    noise = tf.random.normal([BATCH_SIZE, noise_dim])\n",
    "\n",
    "    with tf.GradientTape() as gen_tape, tf.GradientTape() as disc_tape:\n",
    "        # 노이즈를 통해 생성자는 이미지를 생성합니다.\n",
    "        generated_images = generator(noise, training=True)\n",
    "\n",
    "        # 판별자는 실제 이미지와 생성된 이미지를 입력받고 판별합니다.\n",
    "        real_output = discriminator(images, training=True)\n",
    "        fake_output = discriminator(generated_images, training=True)\n",
    "\n",
    "        # 두 네트워크의 loss를 계산합니다.\n",
    "        gen_loss = generator_loss(fake_output)\n",
    "        disc_loss = discriminator_loss(real_output, fake_output)\n",
    "\n",
    "    gradients_of_generator = gen_tape.gradient(gen_loss, generator.trainable_variables)\n",
    "    gradients_of_discriminator = disc_tape.gradient(\n",
    "        disc_loss, discriminator.trainable_variables\n",
    "    )\n",
    "\n",
    "    generator_optimizer.apply_gradients(\n",
    "        zip(gradients_of_generator, generator.trainable_variables)\n",
    "    )\n",
    "    discriminator_optimizer.apply_gradients(\n",
    "        zip(gradients_of_discriminator, discriminator.trainable_variables)\n",
    "    )"
   ]
  },
  {
   "cell_type": "code",
   "execution_count": 15,
   "metadata": {},
   "outputs": [],
   "source": [
    "def train(dataset, epochs):\n",
    "    for epoch in range(epochs):\n",
    "        for image_batch in dataset:\n",
    "            train_step(image_batch)\n",
    "\n",
    "        # GIF를 위한 이미지를 바로 생성합니다.\n",
    "        display.clear_output(wait=True)\n",
    "        generate_and_save_images(generator, epoch + 1, z)\n",
    "\n",
    "    # 마지막 에포크가 끝난 후 생성합니다.\n",
    "    display.clear_output(wait=True)\n",
    "    generate_and_save_images(generator, epochs, z)"
   ]
  },
  {
   "cell_type": "markdown",
   "metadata": {},
   "source": [
    "생성된 이미지를 확인해볼까요? 결과물이 만족스럽지 않다면 epoch 수를 늘리는 방법이 있습니다. 단, 무조건 큰 epoch 수를 정한다고 해서 항상 결과물이 좋은 것은 아니며, 오히려 학습 시간이 오래 걸려 모델 성능이 떨어질 수 있습니다."
   ]
  },
  {
   "cell_type": "code",
   "execution_count": 16,
   "metadata": {},
   "outputs": [
    {
     "data": {
      "image/png": "[encoded data removed]",
      "text/plain": [
       "<Figure size 400x400 with 16 Axes>"
      ]
     },
     "metadata": {},
     "output_type": "display_data"
    }
   ],
   "source": [
    "train(train_dataset, EPOCHS)"
   ]
  },
  {
   "cell_type": "markdown",
   "metadata": {},
   "source": [
    "이번 실습에서는 간단하게 GAN 모델을 구현해보고 결과물을 확인했습니다. 이후 강의를 진행하며 2014년에 발표된 GAN이 어떻게 발전해 왔는지, 어떤 분야에서 활용되는 지 알아봅시다."
   ]
  }
 ],
 "metadata": {
  "kernelspec": {
   "display_name": "tf_env",
   "language": "python",
   "name": "python3"
  },
  "language_info": {
   "codemirror_mode": {
    "name": "ipython",
    "version": 3
   },
   "file_extension": ".py",
   "mimetype": "text/x-python",
   "name": "python",
   "nbconvert_exporter": "python",
   "pygments_lexer": "ipython3",
   "version": "3.10.16"
  }
 },
 "nbformat": 4,
 "nbformat_minor": 2
}
